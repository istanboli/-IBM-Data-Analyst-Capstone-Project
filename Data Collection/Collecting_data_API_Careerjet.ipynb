import requests

api_url = "http://api.open-notify.org/astros.json" 

response = requests.get(api_url)

if response.ok:
    data = response.json()

{'people': [{'name': 'Mark Vande Hei', 'craft': 'ISS'},
  {'name': 'Oleg Novitskiy', 'craft': 'ISS'},
  {'name': 'Pyotr Dubrov', 'craft': 'ISS'},
  {'name': 'Thomas Pesquet', 'craft': 'ISS'},
  {'name': 'Megan McArthur', 'craft': 'ISS'},
  {'name': 'Shane Kimbrough', 'craft': 'ISS'},
  {'name': 'Akihiko Hoshide', 'craft': 'ISS'},
  {'name': 'Nie Haisheng', 'craft': 'Tiangong'},
  {'name': 'Liu Boming', 'craft': 'Tiangong'},
  {'name': 'Tang Hongbo', 'craft': 'Tiangong'}],
 'number': 10,
 'message': 'success'}
data["number"]

astronauts = data.get("people")
for astro in astronauts:
    print(astro["name"])

import careerjet_api #Import the libraries
import pandas as pd

get_number_jobs("Python")

technologies = [
    "C#",
    "C++",
    "Java",
    "JavaScript",
    "Python",
    "Scala",
    "Oracle",
    "SQL",
    "MySQL",
    "PostgreSQL",
    "MongoDB",
    "Excel"
]

tec_dict = {}
counts = []
TECHS = []

for tech in technologies:
    tecnologia, conteo = get_number_jobs(tech)
    counts.append(conteo)
    TECHS.append(tecnologia)
    tec_dict["Technologies"] = TECHS
    tec_dict["Number_jobs"] = counts

tec_dict

df_job=pd.DataFrame(tec_dict)
df_job

df_job.to_excel("Careerjet_posting.xlsx")
